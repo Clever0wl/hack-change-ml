{
 "cells": [
  {
   "cell_type": "code",
   "execution_count": null,
   "id": "initial_id",
   "metadata": {
    "collapsed": true
   },
   "outputs": [],
   "source": []
  },
  {
   "cell_type": "code",
   "execution_count": 6,
   "outputs": [
    {
     "name": "stdout",
     "output_type": "stream",
     "text": [
      "Столбцы в DataFrame: Index(['Уникальный ID записи', 'ID причала', 'Название причала',\n",
      "       'Название судна - отсутсвует если отменено', 'Название маршрута',\n",
      "       'Швартовочное место', 'Дата начала действия записи расписания в UTC',\n",
      "       'Дата окончания действиязаписи  расписания в UTC',\n",
      "       'Время подхода судна в минутах от начала суток',\n",
      "       'Время отхода судна в минутах от начала суток', 'Время стоянки',\n",
      "       'Название судна которое было отменено',\n",
      "       'Тип записи - пустое знеачение если изменений нет, Отмена - судно отменено',\n",
      "       'Дата начала действия записи расписания',\n",
      "       'Дата окончания действия записи расписания', 'Причаливание/подход',\n",
      "       'Отход'],\n",
      "      dtype='object')\n",
      "   Время подхода судна в минутах от начала суток  \\\n",
      "0                                            NaN   \n",
      "1                                            NaN   \n",
      "2                                            NaN   \n",
      "3                                            NaN   \n",
      "4                                            NaN   \n",
      "\n",
      "  Время отхода судна в минутах от начала суток  \n",
      "0                                         None  \n",
      "1                                         None  \n",
      "2                                         None  \n",
      "3                                         None  \n",
      "4                                         None  \n",
      "Данные успешно подготовлены для обучения.\n"
     ]
    },
    {
     "name": "stderr",
     "output_type": "stream",
     "text": [
      "D:\\pythonProject1\\venv\\Lib\\site-packages\\sklearn\\utils\\extmath.py:1137: RuntimeWarning: invalid value encountered in divide\n",
      "  updated_mean = (last_sum + new_sum) / updated_sample_count\n",
      "D:\\pythonProject1\\venv\\Lib\\site-packages\\sklearn\\utils\\extmath.py:1142: RuntimeWarning: invalid value encountered in divide\n",
      "  T = new_sum / new_sample_count\n",
      "D:\\pythonProject1\\venv\\Lib\\site-packages\\sklearn\\utils\\extmath.py:1162: RuntimeWarning: invalid value encountered in divide\n",
      "  new_unnormalized_variance -= correction**2 / new_sample_count\n"
     ]
    }
   ],
   "source": [
    "import pandas as pd\n",
    "from sklearn.preprocessing import StandardScaler\n",
    "\n",
    "# Загрузка данных\n",
    "file_path = 'filtered_schedule_data.csv'\n",
    "data = pd.read_csv(file_path)\n",
    "\n",
    "# Очистим имена столбцов от пробелов\n",
    "data.columns = data.columns.str.strip()\n",
    "\n",
    "# Проверим, какие столбцы присутствуют в DataFrame\n",
    "print(\"Столбцы в DataFrame:\", data.columns)\n",
    "\n",
    "# Преобразуем время в числовой формат (минуты с начала дня)\n",
    "def time_to_minutes(time_str):\n",
    "    \"\"\"Преобразует строку времени HH:MM:SS AM/PM в количество минут с начала дня.\"\"\"\n",
    "    try:\n",
    "        time_obj = pd.to_datetime(time_str, format='%I:%M:%S %p')\n",
    "        return time_obj.hour * 60 + time_obj.minute\n",
    "    except:\n",
    "        return None  # Возвращаем None, если не удается преобразовать\n",
    "\n",
    "# Преобразуем столбцы с временем\n",
    "data['Время подхода судна в минутах от начала суток'] = data['Время подхода судна в минутах от начала суток'].apply(time_to_minutes)\n",
    "data['Время отхода судна в минутах от начала суток'] = data['Время отхода судна в минутах от начала суток'].apply(time_to_minutes)\n",
    "\n",
    "# Убедимся, что данные преобразованы корректно\n",
    "print(data[['Время подхода судна в минутах от начала суток', 'Время отхода судна в минутах от начала суток']].head())\n",
    "\n",
    "# Теперь определим признаки (X) и целевую переменную (y)\n",
    "X = data[['Время подхода судна в минутах от начала суток', \n",
    "          'Время отхода судна в минутах от начала суток', \n",
    "          'Время стоянки', \n",
    "          'Причаливание/подход', \n",
    "          'Отход']]  # Замените на нужные столбцы\n",
    "y = data['Время отхода судна в минутах от начала суток']  # Или другой столбец для целевой переменной\n",
    "\n",
    "# Преобразуем категориальные данные в числовой формат, если они есть\n",
    "X = pd.get_dummies(X, drop_first=True)  # Если нужно, заменим категориальные данные на дамми-переменные\n",
    "\n",
    "# Стандартизация данных\n",
    "scaler = StandardScaler()\n",
    "X_scaled = scaler.fit_transform(X)\n",
    "\n",
    "# Теперь можно продолжать обучение модели\n",
    "print(\"Данные успешно подготовлены для обучения.\")\n"
   ],
   "metadata": {
    "collapsed": false,
    "ExecuteTime": {
     "end_time": "2024-12-01T13:11:58.419032100Z",
     "start_time": "2024-12-01T13:11:58.157504900Z"
    }
   },
   "id": "9879edb40c3f719"
  },
  {
   "cell_type": "code",
   "execution_count": 10,
   "outputs": [
    {
     "name": "stdout",
     "output_type": "stream",
     "text": [
      "Уникальный ID записи                                                         0\n",
      "ID причала                                                                   0\n",
      "Название причала                                                             0\n",
      "Название судна - отсутсвует если отменено                                    0\n",
      "Название маршрута                                                            0\n",
      "Швартовочное место                                                           0\n",
      "Дата начала действия записи расписания в UTC                                 0\n",
      "Дата окончания действиязаписи  расписания в UTC                              0\n",
      "Время подхода судна в минутах от начала суток                                0\n",
      "Время отхода судна в минутах от начала суток                                 0\n",
      "Время стоянки                                                                0\n",
      "Название судна которое было отменено                                         0\n",
      "Тип записи - пустое знеачение если изменений нет, Отмена - судно отменено    0\n",
      "Дата начала действия записи расписания                                       0\n",
      "Дата окончания действия записи расписания                                    0\n",
      "Причаливание/подход                                                          1\n",
      "Отход                                                                        0\n",
      "dtype: int64\n"
     ]
    },
    {
     "ename": "KeyError",
     "evalue": "\"None of [Index(['distance_km', 'hour', 'timetable.duration', 'time_of_day_morning',\\n       'time_of_day_evening', 'time_of_day_night'],\\n      dtype='object')] are in the [columns]\"",
     "output_type": "error",
     "traceback": [
      "\u001B[1;31m---------------------------------------------------------------------------\u001B[0m",
      "\u001B[1;31mKeyError\u001B[0m                                  Traceback (most recent call last)",
      "Cell \u001B[1;32mIn[10], line 23\u001B[0m\n\u001B[0;32m     20\u001B[0m \u001B[38;5;28mprint\u001B[39m(data\u001B[38;5;241m.\u001B[39misna()\u001B[38;5;241m.\u001B[39msum())\n\u001B[0;32m     22\u001B[0m \u001B[38;5;66;03m# Теперь можно продолжить с разделением признаков и целевой переменной\u001B[39;00m\n\u001B[1;32m---> 23\u001B[0m X \u001B[38;5;241m=\u001B[39m \u001B[43mdata\u001B[49m\u001B[43m[\u001B[49m\u001B[43m[\u001B[49m\u001B[38;5;124;43m'\u001B[39;49m\u001B[38;5;124;43mdistance_km\u001B[39;49m\u001B[38;5;124;43m'\u001B[39;49m\u001B[43m,\u001B[49m\u001B[43m \u001B[49m\u001B[38;5;124;43m'\u001B[39;49m\u001B[38;5;124;43mhour\u001B[39;49m\u001B[38;5;124;43m'\u001B[39;49m\u001B[43m,\u001B[49m\u001B[43m \u001B[49m\u001B[38;5;124;43m'\u001B[39;49m\u001B[38;5;124;43mtimetable.duration\u001B[39;49m\u001B[38;5;124;43m'\u001B[39;49m\u001B[43m,\u001B[49m\u001B[43m \u001B[49m\u001B[38;5;124;43m'\u001B[39;49m\u001B[38;5;124;43mtime_of_day_morning\u001B[39;49m\u001B[38;5;124;43m'\u001B[39;49m\u001B[43m,\u001B[49m\u001B[43m \u001B[49m\u001B[38;5;124;43m'\u001B[39;49m\u001B[38;5;124;43mtime_of_day_evening\u001B[39;49m\u001B[38;5;124;43m'\u001B[39;49m\u001B[43m,\u001B[49m\u001B[43m \u001B[49m\u001B[38;5;124;43m'\u001B[39;49m\u001B[38;5;124;43mtime_of_day_night\u001B[39;49m\u001B[38;5;124;43m'\u001B[39;49m\u001B[43m]\u001B[49m\u001B[43m]\u001B[49m\n\u001B[0;32m     24\u001B[0m y \u001B[38;5;241m=\u001B[39m data[\u001B[38;5;124m'\u001B[39m\u001B[38;5;124mtrip_duration\u001B[39m\u001B[38;5;124m'\u001B[39m]\n\u001B[0;32m     26\u001B[0m \u001B[38;5;66;03m# Продолжаем нормализацию и обучение модели\u001B[39;00m\n",
      "File \u001B[1;32mD:\\pythonProject1\\venv\\Lib\\site-packages\\pandas\\core\\frame.py:4108\u001B[0m, in \u001B[0;36mDataFrame.__getitem__\u001B[1;34m(self, key)\u001B[0m\n\u001B[0;32m   4106\u001B[0m     \u001B[38;5;28;01mif\u001B[39;00m is_iterator(key):\n\u001B[0;32m   4107\u001B[0m         key \u001B[38;5;241m=\u001B[39m \u001B[38;5;28mlist\u001B[39m(key)\n\u001B[1;32m-> 4108\u001B[0m     indexer \u001B[38;5;241m=\u001B[39m \u001B[38;5;28;43mself\u001B[39;49m\u001B[38;5;241;43m.\u001B[39;49m\u001B[43mcolumns\u001B[49m\u001B[38;5;241;43m.\u001B[39;49m\u001B[43m_get_indexer_strict\u001B[49m\u001B[43m(\u001B[49m\u001B[43mkey\u001B[49m\u001B[43m,\u001B[49m\u001B[43m \u001B[49m\u001B[38;5;124;43m\"\u001B[39;49m\u001B[38;5;124;43mcolumns\u001B[39;49m\u001B[38;5;124;43m\"\u001B[39;49m\u001B[43m)\u001B[49m[\u001B[38;5;241m1\u001B[39m]\n\u001B[0;32m   4110\u001B[0m \u001B[38;5;66;03m# take() does not accept boolean indexers\u001B[39;00m\n\u001B[0;32m   4111\u001B[0m \u001B[38;5;28;01mif\u001B[39;00m \u001B[38;5;28mgetattr\u001B[39m(indexer, \u001B[38;5;124m\"\u001B[39m\u001B[38;5;124mdtype\u001B[39m\u001B[38;5;124m\"\u001B[39m, \u001B[38;5;28;01mNone\u001B[39;00m) \u001B[38;5;241m==\u001B[39m \u001B[38;5;28mbool\u001B[39m:\n",
      "File \u001B[1;32mD:\\pythonProject1\\venv\\Lib\\site-packages\\pandas\\core\\indexes\\base.py:6200\u001B[0m, in \u001B[0;36mIndex._get_indexer_strict\u001B[1;34m(self, key, axis_name)\u001B[0m\n\u001B[0;32m   6197\u001B[0m \u001B[38;5;28;01melse\u001B[39;00m:\n\u001B[0;32m   6198\u001B[0m     keyarr, indexer, new_indexer \u001B[38;5;241m=\u001B[39m \u001B[38;5;28mself\u001B[39m\u001B[38;5;241m.\u001B[39m_reindex_non_unique(keyarr)\n\u001B[1;32m-> 6200\u001B[0m \u001B[38;5;28;43mself\u001B[39;49m\u001B[38;5;241;43m.\u001B[39;49m\u001B[43m_raise_if_missing\u001B[49m\u001B[43m(\u001B[49m\u001B[43mkeyarr\u001B[49m\u001B[43m,\u001B[49m\u001B[43m \u001B[49m\u001B[43mindexer\u001B[49m\u001B[43m,\u001B[49m\u001B[43m \u001B[49m\u001B[43maxis_name\u001B[49m\u001B[43m)\u001B[49m\n\u001B[0;32m   6202\u001B[0m keyarr \u001B[38;5;241m=\u001B[39m \u001B[38;5;28mself\u001B[39m\u001B[38;5;241m.\u001B[39mtake(indexer)\n\u001B[0;32m   6203\u001B[0m \u001B[38;5;28;01mif\u001B[39;00m \u001B[38;5;28misinstance\u001B[39m(key, Index):\n\u001B[0;32m   6204\u001B[0m     \u001B[38;5;66;03m# GH 42790 - Preserve name from an Index\u001B[39;00m\n",
      "File \u001B[1;32mD:\\pythonProject1\\venv\\Lib\\site-packages\\pandas\\core\\indexes\\base.py:6249\u001B[0m, in \u001B[0;36mIndex._raise_if_missing\u001B[1;34m(self, key, indexer, axis_name)\u001B[0m\n\u001B[0;32m   6247\u001B[0m \u001B[38;5;28;01mif\u001B[39;00m nmissing:\n\u001B[0;32m   6248\u001B[0m     \u001B[38;5;28;01mif\u001B[39;00m nmissing \u001B[38;5;241m==\u001B[39m \u001B[38;5;28mlen\u001B[39m(indexer):\n\u001B[1;32m-> 6249\u001B[0m         \u001B[38;5;28;01mraise\u001B[39;00m \u001B[38;5;167;01mKeyError\u001B[39;00m(\u001B[38;5;124mf\u001B[39m\u001B[38;5;124m\"\u001B[39m\u001B[38;5;124mNone of [\u001B[39m\u001B[38;5;132;01m{\u001B[39;00mkey\u001B[38;5;132;01m}\u001B[39;00m\u001B[38;5;124m] are in the [\u001B[39m\u001B[38;5;132;01m{\u001B[39;00maxis_name\u001B[38;5;132;01m}\u001B[39;00m\u001B[38;5;124m]\u001B[39m\u001B[38;5;124m\"\u001B[39m)\n\u001B[0;32m   6251\u001B[0m     not_found \u001B[38;5;241m=\u001B[39m \u001B[38;5;28mlist\u001B[39m(ensure_index(key)[missing_mask\u001B[38;5;241m.\u001B[39mnonzero()[\u001B[38;5;241m0\u001B[39m]]\u001B[38;5;241m.\u001B[39munique())\n\u001B[0;32m   6252\u001B[0m     \u001B[38;5;28;01mraise\u001B[39;00m \u001B[38;5;167;01mKeyError\u001B[39;00m(\u001B[38;5;124mf\u001B[39m\u001B[38;5;124m\"\u001B[39m\u001B[38;5;132;01m{\u001B[39;00mnot_found\u001B[38;5;132;01m}\u001B[39;00m\u001B[38;5;124m not in index\u001B[39m\u001B[38;5;124m\"\u001B[39m)\n",
      "\u001B[1;31mKeyError\u001B[0m: \"None of [Index(['distance_km', 'hour', 'timetable.duration', 'time_of_day_morning',\\n       'time_of_day_evening', 'time_of_day_night'],\\n      dtype='object')] are in the [columns]\""
     ]
    }
   ],
   "source": [
    "import pandas as pd\n",
    "\n",
    "# Загрузка данных\n",
    "data = pd.read_csv('filtered_schedule_data.csv')\n",
    "\n",
    "# Заполнение пропусков в числовых столбцах\n",
    "data['Время подхода судна в минутах от начала суток'] = data['Время подхода судна в минутах от начала суток'].fillna(0)\n",
    "data['Время отхода судна в минутах от начала суток'] = data['Время отхода судна в минутах от начала суток'].fillna(0)\n",
    "\n",
    "# Заполнение пропусков в строковых столбцах\n",
    "data['Название судна - отсутсвует если отменено'] = data['Название судна - отсутсвует если отменено'].fillna('Не указано')\n",
    "data['Название судна которое было отменено'] = data['Название судна которое было отменено'].fillna('Не указано')\n",
    "data['Тип записи - пустое знеачение если изменений нет, Отмена - судно отменено'] = data['Тип записи - пустое знеачение если изменений нет, Отмена - судно отменено'].fillna('Нет изменений')\n",
    "\n",
    "# Преобразование данных в числовой формат\n",
    "data['Время подхода судна в минутах от начала суток'] = pd.to_numeric(data['Время подхода судна в минутах от начала суток'], errors='coerce')\n",
    "data['Время отхода судна в минутах от начала суток'] = pd.to_numeric(data['Время отхода судна в минутах от начала суток'], errors='coerce')\n",
    "\n",
    "# Проверим наличие пропусков после обработки\n",
    "print(data.isna().sum())\n",
    "\n",
    "# Теперь можно продолжить с разделением признаков и целевой переменной\n",
    "X = data[['distance_km', 'hour', 'timetable.duration', 'time_of_day_morning', 'time_of_day_evening', 'time_of_day_night']]\n",
    "y = data['trip_duration']\n",
    "\n",
    "# Продолжаем нормализацию и обучение модели\n",
    "from sklearn.preprocessing import StandardScaler\n",
    "scaler = StandardScaler()\n",
    "X_scaled = scaler.fit_transform(X)\n",
    "\n",
    "# Разделим на обучающую и тестовую выборки\n",
    "from sklearn.model_selection import train_test_split\n",
    "X_train, X_test, y_train, y_test = train_test_split(X_scaled, y, test_size=0.2, random_state=42)\n",
    "\n",
    "# Обучаем модель случайного леса\n",
    "from sklearn.ensemble import RandomForestRegressor\n",
    "model = RandomForestRegressor(n_estimators=100, random_state=42)\n",
    "model.fit(X_train, y_train)\n",
    "\n",
    "# Предсказания\n",
    "y_pred = model.predict(X_test)\n",
    "\n",
    "# Оценка модели\n",
    "from sklearn.metrics import mean_absolute_error, mean_squared_error\n",
    "mae = mean_absolute_error(y_test, y_pred)\n",
    "rmse = mean_squared_error(y_test, y_pred, squared=False)\n",
    "\n",
    "print(f'MAE: {mae:.2f} минут')\n",
    "print(f'RMSE: {rmse:.2f} минут')\n",
    "\n",
    "# Сохраняем модель\n",
    "import joblib\n",
    "joblib.dump(model, 'trip_duration_model.pkl')\n"
   ],
   "metadata": {
    "collapsed": false,
    "ExecuteTime": {
     "end_time": "2024-12-01T13:16:49.152554800Z",
     "start_time": "2024-12-01T13:16:49.101897500Z"
    }
   },
   "id": "aee8790d986e6847"
  },
  {
   "cell_type": "code",
   "execution_count": 29,
   "outputs": [
    {
     "name": "stdout",
     "output_type": "stream",
     "text": [
      "Mean Absolute Error (MAE): 2.83 minutes\n",
      "Root Mean Squared Error (RMSE): 15.05 minutes\n"
     ]
    },
    {
     "name": "stderr",
     "output_type": "stream",
     "text": [
      "D:\\pythonProject1\\venv\\Lib\\site-packages\\sklearn\\metrics\\_regression.py:492: FutureWarning: 'squared' is deprecated in version 1.4 and will be removed in 1.6. To calculate the root mean squared error, use the function'root_mean_squared_error'.\n",
      "  warnings.warn(\n"
     ]
    }
   ],
   "source": [
    "import pandas as pd\n",
    "from sklearn.model_selection import train_test_split\n",
    "from sklearn.ensemble import RandomForestRegressor\n",
    "from sklearn.metrics import mean_absolute_error, mean_squared_error\n",
    "from sklearn.preprocessing import StandardScaler\n",
    "\n",
    "# Загрузка очищенных данных\n",
    "data_filtered = pd.read_csv(\"filtered_schedule_data.csv\")\n",
    "\n",
    "# Преобразуем время подхода и отхода в числовой формат (если они не были ранее)\n",
    "data_filtered['Время подхода судна в минутах от начала суток'] = pd.to_numeric(data_filtered['Время подхода судна в минутах от начала суток'], errors='coerce')\n",
    "data_filtered['Время отхода судна в минутах от начала суток'] = pd.to_numeric(data_filtered['Время отхода судна в минутах от начала суток'], errors='coerce')\n",
    "\n",
    "# Допустим, что целевая переменная - это время поездки (т.е. разница между временем подхода и отхода)\n",
    "data_filtered['trip_duration'] = data_filtered['Время отхода судна в минутах от начала суток'] - data_filtered['Время подхода судна в минутах от начала суток']\n",
    "\n",
    "# Убедимся, что нет пропущенных значений в целевой переменной\n",
    "data_filtered = data_filtered.dropna(subset=['trip_duration'])\n",
    "\n",
    "# Признаки (features) для обучения модели\n",
    "X = data_filtered[['Время подхода судна в минутах от начала суток', 'Время отхода судна в минутах от начала суток']]\n",
    "\n",
    "# Целевая переменная (target)\n",
    "y = data_filtered['trip_duration']\n",
    "\n",
    "# Разделение данных на обучающую и тестовую выборки\n",
    "X_train, X_test, y_train, y_test = train_test_split(X, y, test_size=0.2, random_state=42)\n",
    "\n",
    "# Стандартизация данных (это полезно для многих моделей)\n",
    "scaler = StandardScaler()\n",
    "X_train_scaled = scaler.fit_transform(X_train)\n",
    "X_test_scaled = scaler.transform(X_test)\n",
    "\n",
    "# Создание и обучение модели RandomForest\n",
    "model = RandomForestRegressor(n_estimators=100, random_state=42)\n",
    "model.fit(X_train_scaled, y_train)\n",
    "\n",
    "# Предсказания\n",
    "y_pred = model.predict(X_test_scaled)\n",
    "\n",
    "# Оценка качества модели\n",
    "mae = mean_absolute_error(y_test, y_pred)\n",
    "rmse = mean_squared_error(y_test, y_pred, squared=False)\n",
    "\n",
    "# Выводим результаты\n",
    "print(f'Mean Absolute Error (MAE): {mae:.2f} minutes')\n",
    "print(f'Root Mean Squared Error (RMSE): {rmse:.2f} minutes')\n",
    "\n"
   ],
   "metadata": {
    "collapsed": false,
    "ExecuteTime": {
     "end_time": "2024-12-01T13:42:17.181492800Z",
     "start_time": "2024-12-01T13:42:16.841225900Z"
    }
   },
   "id": "6fd86f31a79f16f"
  },
  {
   "cell_type": "code",
   "execution_count": 31,
   "outputs": [
    {
     "name": "stderr",
     "output_type": "stream",
     "text": [
      "D:\\pythonProject1\\venv\\Lib\\site-packages\\sklearn\\metrics\\_regression.py:492: FutureWarning: 'squared' is deprecated in version 1.4 and will be removed in 1.6. To calculate the root mean squared error, use the function'root_mean_squared_error'.\n",
      "  warnings.warn(\n"
     ]
    },
    {
     "name": "stdout",
     "output_type": "stream",
     "text": [
      "Mean Absolute Error (MAE): 2.83 minutes\n",
      "Root Mean Squared Error (RMSE): 15.05 minutes\n",
      "R-squared (R^2): 0.96\n",
      "Модель успешно сохранена в формате ONNX.\n"
     ]
    }
   ],
   "source": [
    "import pandas as pd\n",
    "from sklearn.model_selection import train_test_split\n",
    "from sklearn.ensemble import RandomForestRegressor\n",
    "from sklearn.metrics import mean_absolute_error, mean_squared_error, r2_score\n",
    "from sklearn.preprocessing import StandardScaler\n",
    "from skl2onnx import convert_sklearn\n",
    "from skl2onnx.common.data_types import FloatTensorType\n",
    "import onnx\n",
    "\n",
    "# Загрузка очищенных данных\n",
    "data_filtered = pd.read_csv(\"filtered_schedule_data.csv\")\n",
    "\n",
    "# Преобразуем время подхода и отхода в числовой формат (если они не были ранее)\n",
    "data_filtered['Время подхода судна в минутах от начала суток'] = pd.to_numeric(data_filtered['Время подхода судна в минутах от начала суток'], errors='coerce')\n",
    "data_filtered['Время отхода судна в минутах от начала суток'] = pd.to_numeric(data_filtered['Время отхода судна в минутах от начала суток'], errors='coerce')\n",
    "\n",
    "# Допустим, что целевая переменная - это время поездки (т.е. разница между временем подхода и отхода)\n",
    "data_filtered['trip_duration'] = data_filtered['Время отхода судна в минутах от начала суток'] - data_filtered['Время подхода судна в минутах от начала суток']\n",
    "\n",
    "# Убедимся, что нет пропущенных значений в целевой переменной\n",
    "data_filtered = data_filtered.dropna(subset=['trip_duration'])\n",
    "\n",
    "# Признаки (features) для обучения модели\n",
    "X = data_filtered[['Время подхода судна в минутах от начала суток', 'Время отхода судна в минутах от начала суток']]\n",
    "\n",
    "# Целевая переменная (target)\n",
    "y = data_filtered['trip_duration']\n",
    "\n",
    "# Разделение данных на обучающую и тестовую выборки\n",
    "X_train, X_test, y_train, y_test = train_test_split(X, y, test_size=0.2, random_state=42)\n",
    "\n",
    "# Стандартизация данных (это полезно для многих моделей)\n",
    "scaler = StandardScaler()\n",
    "X_train_scaled = scaler.fit_transform(X_train)\n",
    "X_test_scaled = scaler.transform(X_test)\n",
    "\n",
    "# Создание и обучение модели RandomForest\n",
    "model = RandomForestRegressor(n_estimators=100, random_state=42)\n",
    "model.fit(X_train_scaled, y_train)\n",
    "\n",
    "# Предсказания\n",
    "y_pred = model.predict(X_test_scaled)\n",
    "\n",
    "# Оценка качества модели\n",
    "mae = mean_absolute_error(y_test, y_pred)\n",
    "rmse = mean_squared_error(y_test, y_pred, squared=False)\n",
    "r2 = r2_score(y_test, y_pred)  # Коэффициент детерминации (R^2)\n",
    "\n",
    "# Выводим результаты\n",
    "print(f'Mean Absolute Error (MAE): {mae:.2f} minutes')\n",
    "print(f'Root Mean Squared Error (RMSE): {rmse:.2f} minutes')\n",
    "print(f'R-squared (R^2): {r2:.2f}')\n",
    "\n",
    "# Сохранение модели в формате ONNX\n",
    "# Преобразуем модель в формат ONNX\n",
    "onnx_model = convert_sklearn(model, initial_types=[('float_input', FloatTensorType([None, X_train_scaled.shape[1]]))])\n",
    "\n",
    "# Сохранение модели в файл\n",
    "onnx.save_model(onnx_model, 'water_taxi_model.onnx')\n",
    "\n",
    "print(\"Модель успешно сохранена в формате ONNX.\")\n"
   ],
   "metadata": {
    "collapsed": false,
    "ExecuteTime": {
     "end_time": "2024-12-01T13:44:16.451721700Z",
     "start_time": "2024-12-01T13:44:12.382793800Z"
    }
   },
   "id": "6871c8deea8ac5e4"
  },
  {
   "cell_type": "code",
   "execution_count": null,
   "outputs": [],
   "source": [
    " "
   ],
   "metadata": {
    "collapsed": false
   },
   "id": "64e1fb62728bc02c"
  }
 ],
 "metadata": {
  "kernelspec": {
   "display_name": "Python 3",
   "language": "python",
   "name": "python3"
  },
  "language_info": {
   "codemirror_mode": {
    "name": "ipython",
    "version": 2
   },
   "file_extension": ".py",
   "mimetype": "text/x-python",
   "name": "python",
   "nbconvert_exporter": "python",
   "pygments_lexer": "ipython2",
   "version": "2.7.6"
  }
 },
 "nbformat": 4,
 "nbformat_minor": 5
}
